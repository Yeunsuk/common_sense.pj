{
 "cells": [
  {
   "cell_type": "code",
   "execution_count": null,
   "metadata": {},
   "outputs": [],
   "source": [
    "import pygame, sys\n",
    "from pygame.locals import *\n",
    "\n",
    "pygame.init() # 파이게임 초기화\n",
    "\n",
    "width=700\n",
    "height=600\n",
    "\n",
    "displaysf=pygame.display.set_mode((width,height)) # 스크린창 크기\n",
    "pygame.display.set_caption(\"Title\") # 제목\n",
    "\n",
    "def main():\n",
    "    run=True\n",
    "    while run:\n",
    "        displaysf.fill((255,255,255)) # 스크린 색 채우기\n",
    "\n",
    "        for event in pygame.event.get():\n",
    "            if event.type==pygame.QUIT:\n",
    "                run==False\n",
    "\n",
    "rect=pygame.Rect(300,250,100,100) # 사각형 객체(x,y,너비,높이)\n",
    "pygame.draw.rect(displaysf,(96,129,242),rect) # 사각형 그리기(스크린, 색, 사각형 정보)\n",
    "\n",
    "pygame.display.update() # 메인 스크린에 출력\n",
    "\n",
    "if __name__==\"__main__\":\n",
    "    main()\n",
    "    pygame.quit()\n",
    "    sys.exit()"
   ]
  },
  {
   "cell_type": "code",
   "execution_count": 1,
   "metadata": {},
   "outputs": [
    {
     "name": "stdout",
     "output_type": "stream",
     "text": [
      "pygame 2.1.2 (SDL 2.0.18, Python 3.10.2)\n",
      "Hello from the pygame community. https://www.pygame.org/contribute.html\n"
     ]
    },
    {
     "ename": "AttributeError",
     "evalue": "module 'pygame' has no attribute 'K_up'",
     "output_type": "error",
     "traceback": [
      "\u001b[1;31m---------------------------------------------------------------------------\u001b[0m",
      "\u001b[1;31mAttributeError\u001b[0m                            Traceback (most recent call last)",
      "Cell \u001b[1;32mIn[1], line 43\u001b[0m\n\u001b[0;32m     40\u001b[0m         screen\u001b[39m.\u001b[39mblit(airplane,(x,y))\n\u001b[0;32m     41\u001b[0m         pygame\u001b[39m.\u001b[39mdisplay\u001b[39m.\u001b[39mupdate()\n\u001b[1;32m---> 43\u001b[0m main()\n\u001b[0;32m     44\u001b[0m pygame\u001b[39m.\u001b[39mquit()\n\u001b[0;32m     45\u001b[0m sys\u001b[39m.\u001b[39mexit()\n",
      "Cell \u001b[1;32mIn[1], line 31\u001b[0m, in \u001b[0;36mmain\u001b[1;34m()\u001b[0m\n\u001b[0;32m     28\u001b[0m     done\u001b[39m=\u001b[39m\u001b[39mTrue\u001b[39;00m\n\u001b[0;32m     30\u001b[0m \u001b[39mif\u001b[39;00m event\u001b[39m.\u001b[39mtype\u001b[39m==\u001b[39mpygame\u001b[39m.\u001b[39mKEYDOWN: \u001b[39m# 버튼 누룰 시 \u001b[39;00m\n\u001b[1;32m---> 31\u001b[0m     \u001b[39mif\u001b[39;00m event\u001b[39m.\u001b[39mkey\u001b[39m==\u001b[39mpygame\u001b[39m.\u001b[39;49mK_up: \n\u001b[0;32m     32\u001b[0m         y\u001b[39m-\u001b[39m\u001b[39m=\u001b[39m\u001b[39m10\u001b[39m\n\u001b[0;32m     33\u001b[0m     \u001b[39melif\u001b[39;00m event\u001b[39m.\u001b[39mkey\u001b[39m==\u001b[39mpygame\u001b[39m.\u001b[39mK_DOWN:\n",
      "\u001b[1;31mAttributeError\u001b[0m: module 'pygame' has no attribute 'K_up'"
     ]
    },
    {
     "ename": "",
     "evalue": "",
     "output_type": "error",
     "traceback": [
      "\u001b[1;31m현재 셀 또는 이전 셀에서 코드를 실행하는 동안 Kernel이 충돌했습니다. 셀의 코드를 검토하여 오류의 가능한 원인을 식별하세요. 자세한 내용을 보려면 <a href='https://aka.ms/vscodeJupyterKernelCrash'> 여기 </a> 를 클릭하세요. 자세한 내용은 Jupyter <a href='command:jupyter.viewOutput'>로그</a>를 참조하세요."
     ]
    }
   ],
   "source": [
    "import pygame, sys\n",
    "from pygame.locals import *\n",
    "\n",
    "pygame.init() # 파이게임 초기화\n",
    "\n",
    "# 게임화면 설정\n",
    "white=(255,255,255)\n",
    "size=[800,600]\n",
    "screen=pygame.display.set_mode(size) \n",
    "\n",
    "done=False\n",
    "clock=pygame.time.Clock()\n",
    "\n",
    "# 파이게임에 사용하는 이미지 호출\n",
    "airplane=pygame.image.load('img/plane.jpg')\n",
    "airplane=pygame.transform.scale(airplane,(60,45)) # 이미지 크기 조정\n",
    "\n",
    "def main():\n",
    "    global done, airplane\n",
    "    x,y=20,24\n",
    "\n",
    "    while  not done:\n",
    "        clock.tick(10) # 10fps\n",
    "        screen.fill(white)\n",
    "\n",
    "        for event in pygame.event.get():\n",
    "            if event.type==pygame.QUIT: # 창 닫기 버튼\n",
    "                done=True\n",
    "            \n",
    "            if event.type==pygame.KEYDOWN: # 버튼 누룰 시 \n",
    "                if event.key==pygame.K_up: \n",
    "                    y-=10\n",
    "                elif event.key==pygame.K_DOWN:\n",
    "                    y+=10\n",
    "                elif event.key==pygame.K_LEFT:\n",
    "                    x-=10\n",
    "                elif event.key==pygame.K_RIGHT:\n",
    "                    x+=10\n",
    "        \n",
    "        screen.blit(airplane,(x,y))\n",
    "        pygame.display.update()\n",
    "\n",
    "main()\n",
    "pygame.quit()\n",
    "sys.exit()"
   ]
  },
  {
   "cell_type": "code",
   "execution_count": null,
   "metadata": {},
   "outputs": [],
   "source": []
  },
  {
   "cell_type": "code",
   "execution_count": null,
   "metadata": {},
   "outputs": [],
   "source": []
  }
 ],
 "metadata": {
  "kernelspec": {
   "display_name": "Python 3",
   "language": "python",
   "name": "python3"
  },
  "language_info": {
   "codemirror_mode": {
    "name": "ipython",
    "version": 3
   },
   "file_extension": ".py",
   "mimetype": "text/x-python",
   "name": "python",
   "nbconvert_exporter": "python",
   "pygments_lexer": "ipython3",
   "version": "3.10.2"
  },
  "orig_nbformat": 4,
  "vscode": {
   "interpreter": {
    "hash": "a3eaa9827b559f7daa172537324c0c13e316356cb5e0939ab63f4676b92d71dc"
   }
  }
 },
 "nbformat": 4,
 "nbformat_minor": 2
}
